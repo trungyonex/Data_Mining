{
 "cells": [
  {
   "cell_type": "code",
   "execution_count": 1,
   "id": "welcome-korea",
   "metadata": {},
   "outputs": [],
   "source": [
    "import time\n",
    "from selenium.webdriver import Chrome\n",
    "from selenium.webdriver.common.by import By\n",
    "from selenium.webdriver.common.keys import Keys\n",
    "from selenium.webdriver.support.ui import WebDriverWait\n",
    "from selenium.webdriver.support import expected_conditions as EC\n",
    "import pandas as pd"
   ]
  },
  {
   "cell_type": "code",
   "execution_count": 2,
   "id": "powerful-marshall",
   "metadata": {},
   "outputs": [
    {
     "data": {
      "text/html": [
       "<div>\n",
       "<style scoped>\n",
       "    .dataframe tbody tr th:only-of-type {\n",
       "        vertical-align: middle;\n",
       "    }\n",
       "\n",
       "    .dataframe tbody tr th {\n",
       "        vertical-align: top;\n",
       "    }\n",
       "\n",
       "    .dataframe thead th {\n",
       "        text-align: right;\n",
       "    }\n",
       "</style>\n",
       "<table border=\"1\" class=\"dataframe\">\n",
       "  <thead>\n",
       "    <tr style=\"text-align: right;\">\n",
       "      <th></th>\n",
       "      <th>Unnamed: 0</th>\n",
       "      <th>Emotion</th>\n",
       "      <th>Sentence</th>\n",
       "    </tr>\n",
       "  </thead>\n",
       "  <tbody>\n",
       "    <tr>\n",
       "      <th>0</th>\n",
       "      <td>188</td>\n",
       "      <td>Other</td>\n",
       "      <td>cho mình xin bài nhạc tên là gì với ạ</td>\n",
       "    </tr>\n",
       "    <tr>\n",
       "      <th>1</th>\n",
       "      <td>166</td>\n",
       "      <td>Disgust</td>\n",
       "      <td>cho đáng đời con quỷ . về nhà lôi con nhà mày ...</td>\n",
       "    </tr>\n",
       "    <tr>\n",
       "      <th>2</th>\n",
       "      <td>1345</td>\n",
       "      <td>Disgust</td>\n",
       "      <td>lo học đi . yêu đương lol gì hay lại thích học...</td>\n",
       "    </tr>\n",
       "    <tr>\n",
       "      <th>3</th>\n",
       "      <td>316</td>\n",
       "      <td>Enjoyment</td>\n",
       "      <td>uớc gì sau này về già vẫn có thể như cụ này :))</td>\n",
       "    </tr>\n",
       "    <tr>\n",
       "      <th>4</th>\n",
       "      <td>1225</td>\n",
       "      <td>Enjoyment</td>\n",
       "      <td>mỗi lần có video của con là cứ coi đi coi lại ...</td>\n",
       "    </tr>\n",
       "  </tbody>\n",
       "</table>\n",
       "</div>"
      ],
      "text/plain": [
       "   Unnamed: 0    Emotion                                           Sentence\n",
       "0         188      Other              cho mình xin bài nhạc tên là gì với ạ\n",
       "1         166    Disgust  cho đáng đời con quỷ . về nhà lôi con nhà mày ...\n",
       "2        1345    Disgust  lo học đi . yêu đương lol gì hay lại thích học...\n",
       "3         316  Enjoyment    uớc gì sau này về già vẫn có thể như cụ này :))\n",
       "4        1225  Enjoyment  mỗi lần có video của con là cứ coi đi coi lại ..."
      ]
     },
     "execution_count": 2,
     "metadata": {},
     "output_type": "execute_result"
    }
   ],
   "source": [
    "df = pd.read_excel('train_nor_811.xlsx')\n",
    "df.head()"
   ]
  },
  {
   "cell_type": "code",
   "execution_count": 3,
   "id": "fallen-marsh",
   "metadata": {},
   "outputs": [
    {
     "data": {
      "text/html": [
       "<div>\n",
       "<style scoped>\n",
       "    .dataframe tbody tr th:only-of-type {\n",
       "        vertical-align: middle;\n",
       "    }\n",
       "\n",
       "    .dataframe tbody tr th {\n",
       "        vertical-align: top;\n",
       "    }\n",
       "\n",
       "    .dataframe thead th {\n",
       "        text-align: right;\n",
       "    }\n",
       "</style>\n",
       "<table border=\"1\" class=\"dataframe\">\n",
       "  <thead>\n",
       "    <tr style=\"text-align: right;\">\n",
       "      <th></th>\n",
       "      <th>Emotion</th>\n",
       "      <th>Sentence</th>\n",
       "    </tr>\n",
       "  </thead>\n",
       "  <tbody>\n",
       "    <tr>\n",
       "      <th>0</th>\n",
       "      <td>Other</td>\n",
       "      <td>cho mình xin bài nhạc tên là gì với ạ</td>\n",
       "    </tr>\n",
       "    <tr>\n",
       "      <th>1</th>\n",
       "      <td>Disgust</td>\n",
       "      <td>cho đáng đời con quỷ . về nhà lôi con nhà mày ...</td>\n",
       "    </tr>\n",
       "    <tr>\n",
       "      <th>2</th>\n",
       "      <td>Disgust</td>\n",
       "      <td>lo học đi . yêu đương lol gì hay lại thích học...</td>\n",
       "    </tr>\n",
       "    <tr>\n",
       "      <th>3</th>\n",
       "      <td>Enjoyment</td>\n",
       "      <td>uớc gì sau này về già vẫn có thể như cụ này :))</td>\n",
       "    </tr>\n",
       "    <tr>\n",
       "      <th>4</th>\n",
       "      <td>Enjoyment</td>\n",
       "      <td>mỗi lần có video của con là cứ coi đi coi lại ...</td>\n",
       "    </tr>\n",
       "  </tbody>\n",
       "</table>\n",
       "</div>"
      ],
      "text/plain": [
       "     Emotion                                           Sentence\n",
       "0      Other              cho mình xin bài nhạc tên là gì với ạ\n",
       "1    Disgust  cho đáng đời con quỷ . về nhà lôi con nhà mày ...\n",
       "2    Disgust  lo học đi . yêu đương lol gì hay lại thích học...\n",
       "3  Enjoyment    uớc gì sau này về già vẫn có thể như cụ này :))\n",
       "4  Enjoyment  mỗi lần có video của con là cứ coi đi coi lại ..."
      ]
     },
     "execution_count": 3,
     "metadata": {},
     "output_type": "execute_result"
    }
   ],
   "source": [
    "df = df.loc[:, ~df.columns.str.contains('^Unnamed')]\n",
    "df.head()"
   ]
  },
  {
   "cell_type": "code",
   "execution_count": 4,
   "id": "supported-corps",
   "metadata": {},
   "outputs": [
    {
     "data": {
      "text/html": [
       "<div>\n",
       "<style scoped>\n",
       "    .dataframe tbody tr th:only-of-type {\n",
       "        vertical-align: middle;\n",
       "    }\n",
       "\n",
       "    .dataframe tbody tr th {\n",
       "        vertical-align: top;\n",
       "    }\n",
       "\n",
       "    .dataframe thead th {\n",
       "        text-align: right;\n",
       "    }\n",
       "</style>\n",
       "<table border=\"1\" class=\"dataframe\">\n",
       "  <thead>\n",
       "    <tr style=\"text-align: right;\">\n",
       "      <th></th>\n",
       "      <th>Unnamed: 0</th>\n",
       "      <th>Emotion</th>\n",
       "      <th>Sentence</th>\n",
       "    </tr>\n",
       "  </thead>\n",
       "  <tbody>\n",
       "    <tr>\n",
       "      <th>0</th>\n",
       "      <td>941</td>\n",
       "      <td>Other</td>\n",
       "      <td>tính tao tao biết , chẳng có chuyện gì có thể ...</td>\n",
       "    </tr>\n",
       "    <tr>\n",
       "      <th>1</th>\n",
       "      <td>142</td>\n",
       "      <td>Enjoyment</td>\n",
       "      <td>lại là lào cai , tự hào quê mình quá :))</td>\n",
       "    </tr>\n",
       "    <tr>\n",
       "      <th>2</th>\n",
       "      <td>1164</td>\n",
       "      <td>Sadness</td>\n",
       "      <td>bị từ chối rồi</td>\n",
       "    </tr>\n",
       "    <tr>\n",
       "      <th>3</th>\n",
       "      <td>182</td>\n",
       "      <td>Enjoyment</td>\n",
       "      <td>tam đảo trời đẹp các mem à</td>\n",
       "    </tr>\n",
       "    <tr>\n",
       "      <th>4</th>\n",
       "      <td>868</td>\n",
       "      <td>Other</td>\n",
       "      <td>đọc bình luận của thằng đó không thiếu chữ nào 😂😂</td>\n",
       "    </tr>\n",
       "  </tbody>\n",
       "</table>\n",
       "</div>"
      ],
      "text/plain": [
       "   Unnamed: 0    Emotion                                           Sentence\n",
       "0         941      Other  tính tao tao biết , chẳng có chuyện gì có thể ...\n",
       "1         142  Enjoyment           lại là lào cai , tự hào quê mình quá :))\n",
       "2        1164    Sadness                                     bị từ chối rồi\n",
       "3         182  Enjoyment                         tam đảo trời đẹp các mem à\n",
       "4         868      Other  đọc bình luận của thằng đó không thiếu chữ nào 😂😂"
      ]
     },
     "execution_count": 4,
     "metadata": {},
     "output_type": "execute_result"
    }
   ],
   "source": [
    "df2 = pd.read_excel('valid_nor_811.xlsx')\n",
    "df2.head()"
   ]
  },
  {
   "cell_type": "code",
   "execution_count": 5,
   "id": "golden-october",
   "metadata": {},
   "outputs": [
    {
     "data": {
      "text/html": [
       "<div>\n",
       "<style scoped>\n",
       "    .dataframe tbody tr th:only-of-type {\n",
       "        vertical-align: middle;\n",
       "    }\n",
       "\n",
       "    .dataframe tbody tr th {\n",
       "        vertical-align: top;\n",
       "    }\n",
       "\n",
       "    .dataframe thead th {\n",
       "        text-align: right;\n",
       "    }\n",
       "</style>\n",
       "<table border=\"1\" class=\"dataframe\">\n",
       "  <thead>\n",
       "    <tr style=\"text-align: right;\">\n",
       "      <th></th>\n",
       "      <th>Emotion</th>\n",
       "      <th>Sentence</th>\n",
       "    </tr>\n",
       "  </thead>\n",
       "  <tbody>\n",
       "    <tr>\n",
       "      <th>0</th>\n",
       "      <td>Other</td>\n",
       "      <td>tính tao tao biết , chẳng có chuyện gì có thể ...</td>\n",
       "    </tr>\n",
       "    <tr>\n",
       "      <th>1</th>\n",
       "      <td>Enjoyment</td>\n",
       "      <td>lại là lào cai , tự hào quê mình quá :))</td>\n",
       "    </tr>\n",
       "    <tr>\n",
       "      <th>2</th>\n",
       "      <td>Sadness</td>\n",
       "      <td>bị từ chối rồi</td>\n",
       "    </tr>\n",
       "    <tr>\n",
       "      <th>3</th>\n",
       "      <td>Enjoyment</td>\n",
       "      <td>tam đảo trời đẹp các mem à</td>\n",
       "    </tr>\n",
       "    <tr>\n",
       "      <th>4</th>\n",
       "      <td>Other</td>\n",
       "      <td>đọc bình luận của thằng đó không thiếu chữ nào 😂😂</td>\n",
       "    </tr>\n",
       "  </tbody>\n",
       "</table>\n",
       "</div>"
      ],
      "text/plain": [
       "     Emotion                                           Sentence\n",
       "0      Other  tính tao tao biết , chẳng có chuyện gì có thể ...\n",
       "1  Enjoyment           lại là lào cai , tự hào quê mình quá :))\n",
       "2    Sadness                                     bị từ chối rồi\n",
       "3  Enjoyment                         tam đảo trời đẹp các mem à\n",
       "4      Other  đọc bình luận của thằng đó không thiếu chữ nào 😂😂"
      ]
     },
     "execution_count": 5,
     "metadata": {},
     "output_type": "execute_result"
    }
   ],
   "source": [
    "df2 = df2.loc[:, ~df2.columns.str.contains('^Unnamed')]\n",
    "df2.head()"
   ]
  },
  {
   "cell_type": "code",
   "execution_count": 6,
   "id": "international-flashing",
   "metadata": {},
   "outputs": [
    {
     "data": {
      "text/html": [
       "<div>\n",
       "<style scoped>\n",
       "    .dataframe tbody tr th:only-of-type {\n",
       "        vertical-align: middle;\n",
       "    }\n",
       "\n",
       "    .dataframe tbody tr th {\n",
       "        vertical-align: top;\n",
       "    }\n",
       "\n",
       "    .dataframe thead th {\n",
       "        text-align: right;\n",
       "    }\n",
       "</style>\n",
       "<table border=\"1\" class=\"dataframe\">\n",
       "  <thead>\n",
       "    <tr style=\"text-align: right;\">\n",
       "      <th></th>\n",
       "      <th>Emotion</th>\n",
       "      <th>Sentence</th>\n",
       "    </tr>\n",
       "  </thead>\n",
       "  <tbody>\n",
       "    <tr>\n",
       "      <th>0</th>\n",
       "      <td>Other</td>\n",
       "      <td>cho mình xin bài nhạc tên là gì với ạ</td>\n",
       "    </tr>\n",
       "    <tr>\n",
       "      <th>1</th>\n",
       "      <td>Disgust</td>\n",
       "      <td>cho đáng đời con quỷ . về nhà lôi con nhà mày ...</td>\n",
       "    </tr>\n",
       "    <tr>\n",
       "      <th>2</th>\n",
       "      <td>Disgust</td>\n",
       "      <td>lo học đi . yêu đương lol gì hay lại thích học...</td>\n",
       "    </tr>\n",
       "    <tr>\n",
       "      <th>3</th>\n",
       "      <td>Enjoyment</td>\n",
       "      <td>uớc gì sau này về già vẫn có thể như cụ này :))</td>\n",
       "    </tr>\n",
       "    <tr>\n",
       "      <th>4</th>\n",
       "      <td>Enjoyment</td>\n",
       "      <td>mỗi lần có video của con là cứ coi đi coi lại ...</td>\n",
       "    </tr>\n",
       "  </tbody>\n",
       "</table>\n",
       "</div>"
      ],
      "text/plain": [
       "     Emotion                                           Sentence\n",
       "0      Other              cho mình xin bài nhạc tên là gì với ạ\n",
       "1    Disgust  cho đáng đời con quỷ . về nhà lôi con nhà mày ...\n",
       "2    Disgust  lo học đi . yêu đương lol gì hay lại thích học...\n",
       "3  Enjoyment    uớc gì sau này về già vẫn có thể như cụ này :))\n",
       "4  Enjoyment  mỗi lần có video của con là cứ coi đi coi lại ..."
      ]
     },
     "execution_count": 6,
     "metadata": {},
     "output_type": "execute_result"
    }
   ],
   "source": [
    "df = df.append(df2)\n",
    "df = df.loc[:, ~df.columns.str.contains('^Unnamed')]\n",
    "df.head()"
   ]
  },
  {
   "cell_type": "code",
   "execution_count": 7,
   "id": "solved-chassis",
   "metadata": {},
   "outputs": [
    {
     "data": {
      "text/html": [
       "<div>\n",
       "<style scoped>\n",
       "    .dataframe tbody tr th:only-of-type {\n",
       "        vertical-align: middle;\n",
       "    }\n",
       "\n",
       "    .dataframe tbody tr th {\n",
       "        vertical-align: top;\n",
       "    }\n",
       "\n",
       "    .dataframe thead th {\n",
       "        text-align: right;\n",
       "    }\n",
       "</style>\n",
       "<table border=\"1\" class=\"dataframe\">\n",
       "  <thead>\n",
       "    <tr style=\"text-align: right;\">\n",
       "      <th></th>\n",
       "      <th>Unnamed: 0</th>\n",
       "      <th>Emotion</th>\n",
       "      <th>Sentence</th>\n",
       "    </tr>\n",
       "  </thead>\n",
       "  <tbody>\n",
       "    <tr>\n",
       "      <th>0</th>\n",
       "      <td>713</td>\n",
       "      <td>Sadness</td>\n",
       "      <td>người ta có bạn bè nhìn vui thật</td>\n",
       "    </tr>\n",
       "    <tr>\n",
       "      <th>1</th>\n",
       "      <td>1827</td>\n",
       "      <td>Surprise</td>\n",
       "      <td>cho nghỉ viêc mói đúng sao goi là kỷ luật</td>\n",
       "    </tr>\n",
       "    <tr>\n",
       "      <th>2</th>\n",
       "      <td>1166</td>\n",
       "      <td>Disgust</td>\n",
       "      <td>kinh vãi 😡</td>\n",
       "    </tr>\n",
       "    <tr>\n",
       "      <th>3</th>\n",
       "      <td>228</td>\n",
       "      <td>Fear</td>\n",
       "      <td>nhà thì không xa lắm nhưng chưa bao giờ đi vì ...</td>\n",
       "    </tr>\n",
       "    <tr>\n",
       "      <th>4</th>\n",
       "      <td>1942</td>\n",
       "      <td>Anger</td>\n",
       "      <td>bố không thích nộp đấy mày thích ý kiến không</td>\n",
       "    </tr>\n",
       "  </tbody>\n",
       "</table>\n",
       "</div>"
      ],
      "text/plain": [
       "   Unnamed: 0   Emotion                                           Sentence\n",
       "0         713   Sadness                   người ta có bạn bè nhìn vui thật\n",
       "1        1827  Surprise          cho nghỉ viêc mói đúng sao goi là kỷ luật\n",
       "2        1166   Disgust                                         kinh vãi 😡\n",
       "3         228      Fear  nhà thì không xa lắm nhưng chưa bao giờ đi vì ...\n",
       "4        1942     Anger      bố không thích nộp đấy mày thích ý kiến không"
      ]
     },
     "execution_count": 7,
     "metadata": {},
     "output_type": "execute_result"
    }
   ],
   "source": [
    "df3 = pd.read_excel('test_nor_811.xlsx')\n",
    "df3.head()"
   ]
  },
  {
   "cell_type": "code",
   "execution_count": 8,
   "id": "greek-psychiatry",
   "metadata": {},
   "outputs": [
    {
     "data": {
      "text/html": [
       "<div>\n",
       "<style scoped>\n",
       "    .dataframe tbody tr th:only-of-type {\n",
       "        vertical-align: middle;\n",
       "    }\n",
       "\n",
       "    .dataframe tbody tr th {\n",
       "        vertical-align: top;\n",
       "    }\n",
       "\n",
       "    .dataframe thead th {\n",
       "        text-align: right;\n",
       "    }\n",
       "</style>\n",
       "<table border=\"1\" class=\"dataframe\">\n",
       "  <thead>\n",
       "    <tr style=\"text-align: right;\">\n",
       "      <th></th>\n",
       "      <th>Emotion</th>\n",
       "      <th>Sentence</th>\n",
       "    </tr>\n",
       "  </thead>\n",
       "  <tbody>\n",
       "    <tr>\n",
       "      <th>0</th>\n",
       "      <td>Sadness</td>\n",
       "      <td>người ta có bạn bè nhìn vui thật</td>\n",
       "    </tr>\n",
       "    <tr>\n",
       "      <th>1</th>\n",
       "      <td>Surprise</td>\n",
       "      <td>cho nghỉ viêc mói đúng sao goi là kỷ luật</td>\n",
       "    </tr>\n",
       "    <tr>\n",
       "      <th>2</th>\n",
       "      <td>Disgust</td>\n",
       "      <td>kinh vãi 😡</td>\n",
       "    </tr>\n",
       "    <tr>\n",
       "      <th>3</th>\n",
       "      <td>Fear</td>\n",
       "      <td>nhà thì không xa lắm nhưng chưa bao giờ đi vì ...</td>\n",
       "    </tr>\n",
       "    <tr>\n",
       "      <th>4</th>\n",
       "      <td>Anger</td>\n",
       "      <td>bố không thích nộp đấy mày thích ý kiến không</td>\n",
       "    </tr>\n",
       "  </tbody>\n",
       "</table>\n",
       "</div>"
      ],
      "text/plain": [
       "    Emotion                                           Sentence\n",
       "0   Sadness                   người ta có bạn bè nhìn vui thật\n",
       "1  Surprise          cho nghỉ viêc mói đúng sao goi là kỷ luật\n",
       "2   Disgust                                         kinh vãi 😡\n",
       "3      Fear  nhà thì không xa lắm nhưng chưa bao giờ đi vì ...\n",
       "4     Anger      bố không thích nộp đấy mày thích ý kiến không"
      ]
     },
     "execution_count": 8,
     "metadata": {},
     "output_type": "execute_result"
    }
   ],
   "source": [
    "df3 = df3.loc[:, ~df3.columns.str.contains('^Unnamed')]\n",
    "df3.head()"
   ]
  },
  {
   "cell_type": "code",
   "execution_count": 9,
   "id": "israeli-lightweight",
   "metadata": {},
   "outputs": [
    {
     "name": "stdout",
     "output_type": "stream",
     "text": [
      "Note: you may need to restart the kernel to use updated packages.\n"
     ]
    },
    {
     "name": "stderr",
     "output_type": "stream",
     "text": [
      "'c:\\users\\quyen' is not recognized as an internal or external command,\n",
      "operable program or batch file.\n"
     ]
    }
   ],
   "source": [
    "pip install underthesea"
   ]
  },
  {
   "cell_type": "code",
   "execution_count": 10,
   "id": "maritime-handle",
   "metadata": {},
   "outputs": [
    {
     "data": {
      "text/html": [
       "<div>\n",
       "<style scoped>\n",
       "    .dataframe tbody tr th:only-of-type {\n",
       "        vertical-align: middle;\n",
       "    }\n",
       "\n",
       "    .dataframe tbody tr th {\n",
       "        vertical-align: top;\n",
       "    }\n",
       "\n",
       "    .dataframe thead th {\n",
       "        text-align: right;\n",
       "    }\n",
       "</style>\n",
       "<table border=\"1\" class=\"dataframe\">\n",
       "  <thead>\n",
       "    <tr style=\"text-align: right;\">\n",
       "      <th></th>\n",
       "      <th>Emotion</th>\n",
       "      <th>Sentence</th>\n",
       "    </tr>\n",
       "  </thead>\n",
       "  <tbody>\n",
       "    <tr>\n",
       "      <th>0</th>\n",
       "      <td>Other</td>\n",
       "      <td>cho mình xin bài nhạc tên là gì với ạ</td>\n",
       "    </tr>\n",
       "    <tr>\n",
       "      <th>1</th>\n",
       "      <td>Disgust</td>\n",
       "      <td>cho đáng đời con quỷ . về nhà lôi con nhà mày ...</td>\n",
       "    </tr>\n",
       "    <tr>\n",
       "      <th>2</th>\n",
       "      <td>Disgust</td>\n",
       "      <td>lo học đi . yêu_đương lol gì hay lại thích học...</td>\n",
       "    </tr>\n",
       "    <tr>\n",
       "      <th>3</th>\n",
       "      <td>Enjoyment</td>\n",
       "      <td>uớc gì sau_này về già vẫn có_thể như cụ này :))</td>\n",
       "    </tr>\n",
       "    <tr>\n",
       "      <th>4</th>\n",
       "      <td>Enjoyment</td>\n",
       "      <td>mỗi lần có video của con là cứ coi đi coi lại ...</td>\n",
       "    </tr>\n",
       "  </tbody>\n",
       "</table>\n",
       "</div>"
      ],
      "text/plain": [
       "     Emotion                                           Sentence\n",
       "0      Other              cho mình xin bài nhạc tên là gì với ạ\n",
       "1    Disgust  cho đáng đời con quỷ . về nhà lôi con nhà mày ...\n",
       "2    Disgust  lo học đi . yêu_đương lol gì hay lại thích học...\n",
       "3  Enjoyment    uớc gì sau_này về già vẫn có_thể như cụ này :))\n",
       "4  Enjoyment  mỗi lần có video của con là cứ coi đi coi lại ..."
      ]
     },
     "execution_count": 10,
     "metadata": {},
     "output_type": "execute_result"
    }
   ],
   "source": [
    "from underthesea import word_tokenize\n",
    "for i in df['Sentence']:\n",
    "    df = df.replace([i], word_tokenize(i, format=\"text\"))\n",
    "df.head()"
   ]
  },
  {
   "cell_type": "code",
   "execution_count": 15,
   "id": "centered-corporation",
   "metadata": {},
   "outputs": [
    {
     "data": {
      "text/html": [
       "<div>\n",
       "<style scoped>\n",
       "    .dataframe tbody tr th:only-of-type {\n",
       "        vertical-align: middle;\n",
       "    }\n",
       "\n",
       "    .dataframe tbody tr th {\n",
       "        vertical-align: top;\n",
       "    }\n",
       "\n",
       "    .dataframe thead th {\n",
       "        text-align: right;\n",
       "    }\n",
       "</style>\n",
       "<table border=\"1\" class=\"dataframe\">\n",
       "  <thead>\n",
       "    <tr style=\"text-align: right;\">\n",
       "      <th></th>\n",
       "      <th>Emotion</th>\n",
       "      <th>Sentence</th>\n",
       "    </tr>\n",
       "  </thead>\n",
       "  <tbody>\n",
       "    <tr>\n",
       "      <th>0</th>\n",
       "      <td>Sadness</td>\n",
       "      <td>người_ta có bạn_bè nhìn vui thật</td>\n",
       "    </tr>\n",
       "    <tr>\n",
       "      <th>1</th>\n",
       "      <td>Surprise</td>\n",
       "      <td>cho nghỉ viêc mói đúng sao goi là kỷ_luật</td>\n",
       "    </tr>\n",
       "    <tr>\n",
       "      <th>2</th>\n",
       "      <td>Disgust</td>\n",
       "      <td>kinh vãi 😡</td>\n",
       "    </tr>\n",
       "    <tr>\n",
       "      <th>3</th>\n",
       "      <td>Fear</td>\n",
       "      <td>nhà thì không xa lắm nhưng chưa bao_giờ đi vì ...</td>\n",
       "    </tr>\n",
       "    <tr>\n",
       "      <th>4</th>\n",
       "      <td>Anger</td>\n",
       "      <td>bố không thích nộp đấy mày thích_ý_kiến không</td>\n",
       "    </tr>\n",
       "  </tbody>\n",
       "</table>\n",
       "</div>"
      ],
      "text/plain": [
       "    Emotion                                           Sentence\n",
       "0   Sadness                   người_ta có bạn_bè nhìn vui thật\n",
       "1  Surprise          cho nghỉ viêc mói đúng sao goi là kỷ_luật\n",
       "2   Disgust                                         kinh vãi 😡\n",
       "3      Fear  nhà thì không xa lắm nhưng chưa bao_giờ đi vì ...\n",
       "4     Anger      bố không thích nộp đấy mày thích_ý_kiến không"
      ]
     },
     "execution_count": 15,
     "metadata": {},
     "output_type": "execute_result"
    }
   ],
   "source": [
    "for i in df3['Sentence']:\n",
    "    df3 = df3.replace([i], word_tokenize(i, format=\"text\"))\n",
    "df3.head()"
   ]
  },
  {
   "cell_type": "code",
   "execution_count": 11,
   "id": "intellectual-harbor",
   "metadata": {},
   "outputs": [],
   "source": [
    "from nltk.corpus import stopwords\n",
    "from sklearn.feature_extraction.text import TfidfVectorizer"
   ]
  },
  {
   "cell_type": "code",
   "execution_count": 12,
   "id": "material-massage",
   "metadata": {},
   "outputs": [],
   "source": [
    "def load_data(txt):\n",
    "    texts = []\n",
    "    with open(txt,'r',encoding = 'utf8') as df:\n",
    "        for line in df.readlines():\n",
    "            texts.append(line.strip())\n",
    "    return texts"
   ]
  },
  {
   "cell_type": "code",
   "execution_count": 13,
   "id": "persistent-purpose",
   "metadata": {},
   "outputs": [],
   "source": [
    "def delete_stopword(sentence):\n",
    "    words = word_tokenize(sentence.lower())\n",
    "    stop_word = load_data('vietnamese_stopwords.txt')\n",
    "    words = [word for word in words if word not in stop_word]\n",
    "    sentence = ' '.join(words)\n",
    "    return sentence"
   ]
  },
  {
   "cell_type": "code",
   "execution_count": 14,
   "id": "extra-richards",
   "metadata": {},
   "outputs": [
    {
     "data": {
      "text/html": [
       "<div>\n",
       "<style scoped>\n",
       "    .dataframe tbody tr th:only-of-type {\n",
       "        vertical-align: middle;\n",
       "    }\n",
       "\n",
       "    .dataframe tbody tr th {\n",
       "        vertical-align: top;\n",
       "    }\n",
       "\n",
       "    .dataframe thead th {\n",
       "        text-align: right;\n",
       "    }\n",
       "</style>\n",
       "<table border=\"1\" class=\"dataframe\">\n",
       "  <thead>\n",
       "    <tr style=\"text-align: right;\">\n",
       "      <th></th>\n",
       "      <th>Emotion</th>\n",
       "      <th>Sentence</th>\n",
       "    </tr>\n",
       "  </thead>\n",
       "  <tbody>\n",
       "    <tr>\n",
       "      <th>0</th>\n",
       "      <td>Other</td>\n",
       "      <td>mình xin bài nhạc gì ạ</td>\n",
       "    </tr>\n",
       "    <tr>\n",
       "      <th>1</th>\n",
       "      <td>Disgust</td>\n",
       "      <td>đáng đời con quỷ . nhà lôi con nhà mày mà đánh 😡</td>\n",
       "    </tr>\n",
       "    <tr>\n",
       "      <th>2</th>\n",
       "      <td>Disgust</td>\n",
       "      <td>lo học đi . yêu_đương lol gì hay lại thích học...</td>\n",
       "    </tr>\n",
       "    <tr>\n",
       "      <th>3</th>\n",
       "      <td>Enjoyment</td>\n",
       "      <td>uớc gì sau_này già vẫn có_thể cụ :))</td>\n",
       "    </tr>\n",
       "    <tr>\n",
       "      <th>4</th>\n",
       "      <td>Enjoyment</td>\n",
       "      <td>mỗi lần video con cứ coi đi coi lại hoài . cưn...</td>\n",
       "    </tr>\n",
       "  </tbody>\n",
       "</table>\n",
       "</div>"
      ],
      "text/plain": [
       "     Emotion                                           Sentence\n",
       "0      Other                             mình xin bài nhạc gì ạ\n",
       "1    Disgust   đáng đời con quỷ . nhà lôi con nhà mày mà đánh 😡\n",
       "2    Disgust  lo học đi . yêu_đương lol gì hay lại thích học...\n",
       "3  Enjoyment               uớc gì sau_này già vẫn có_thể cụ :))\n",
       "4  Enjoyment  mỗi lần video con cứ coi đi coi lại hoài . cưn..."
      ]
     },
     "execution_count": 14,
     "metadata": {},
     "output_type": "execute_result"
    }
   ],
   "source": [
    "for i in df['Sentence']:\n",
    "    df = df.replace([i], delete_stopword(i))\n",
    "df.head()"
   ]
  },
  {
   "cell_type": "code",
   "execution_count": 16,
   "id": "legendary-separation",
   "metadata": {},
   "outputs": [
    {
     "data": {
      "text/html": [
       "<div>\n",
       "<style scoped>\n",
       "    .dataframe tbody tr th:only-of-type {\n",
       "        vertical-align: middle;\n",
       "    }\n",
       "\n",
       "    .dataframe tbody tr th {\n",
       "        vertical-align: top;\n",
       "    }\n",
       "\n",
       "    .dataframe thead th {\n",
       "        text-align: right;\n",
       "    }\n",
       "</style>\n",
       "<table border=\"1\" class=\"dataframe\">\n",
       "  <thead>\n",
       "    <tr style=\"text-align: right;\">\n",
       "      <th></th>\n",
       "      <th>Emotion</th>\n",
       "      <th>Sentence</th>\n",
       "    </tr>\n",
       "  </thead>\n",
       "  <tbody>\n",
       "    <tr>\n",
       "      <th>0</th>\n",
       "      <td>Sadness</td>\n",
       "      <td>người_ta bạn_bè nhìn vui thật</td>\n",
       "    </tr>\n",
       "    <tr>\n",
       "      <th>1</th>\n",
       "      <td>Surprise</td>\n",
       "      <td>nghỉ viêc mói đúng sao goi kỷ_luật</td>\n",
       "    </tr>\n",
       "    <tr>\n",
       "      <th>2</th>\n",
       "      <td>Disgust</td>\n",
       "      <td>kinh vãi 😡</td>\n",
       "    </tr>\n",
       "    <tr>\n",
       "      <th>3</th>\n",
       "      <td>Fear</td>\n",
       "      <td>nhà thì xa lắm nhưng chưa bao_giờ đi vì sợ bị ...</td>\n",
       "    </tr>\n",
       "    <tr>\n",
       "      <th>4</th>\n",
       "      <td>Anger</td>\n",
       "      <td>bố thích nộp đấy mày thích_ý_kiến</td>\n",
       "    </tr>\n",
       "  </tbody>\n",
       "</table>\n",
       "</div>"
      ],
      "text/plain": [
       "    Emotion                                           Sentence\n",
       "0   Sadness                      người_ta bạn_bè nhìn vui thật\n",
       "1  Surprise                 nghỉ viêc mói đúng sao goi kỷ_luật\n",
       "2   Disgust                                         kinh vãi 😡\n",
       "3      Fear  nhà thì xa lắm nhưng chưa bao_giờ đi vì sợ bị ...\n",
       "4     Anger                  bố thích nộp đấy mày thích_ý_kiến"
      ]
     },
     "execution_count": 16,
     "metadata": {},
     "output_type": "execute_result"
    }
   ],
   "source": [
    "for i in df3['Sentence']:\n",
    "    df3 = df3.replace([i], delete_stopword(i))\n",
    "df3.head()"
   ]
  },
  {
   "cell_type": "code",
   "execution_count": 22,
   "id": "purple-kenya",
   "metadata": {},
   "outputs": [],
   "source": [
    "from sklearn.feature_extraction.text import TfidfVectorizer\n",
    "from sklearn.feature_extraction.text import HashingVectorizer\n",
    "from sklearn.feature_extraction.text import CountVectorizer\n",
    "\n",
    "# Tfid_Vectorizer\n",
    "tfidf = TfidfVectorizer(min_df=5,max_df= 0.8,max_features=3000,sublinear_tf=True)\n",
    "X_train_1 = tfidf.fit_transform(df['Sentence'])\n",
    "X_test_1 = tfidf.fit_transform(df3['Sentence'])\n",
    "Y_train_1 = df['Emotion'].replace(['enjoyment','disgust', 'other', 'sadness', 'anger', 'fear', 'surprise'],[1,2,3,4,5,6,7])\n",
    "Y_test_1 =   df3['Emotion'].replace(['enjoyment','disgust', 'other', 'sadness', 'anger', 'fear', 'surprise'],[1,2,3,4,5,6,7])\n",
    "\n",
    "# Hashing_Vectorizer\n",
    "vectorizer = HashingVectorizer(n_features=2**4)\n",
    "X_train_2 = vectorizer.fit_transform(df['Sentence'])\n",
    "X_test_2 =  vectorizer.fit_transform(df3['Sentence'])\n",
    "Y_train_2 = df['Emotion'].replace(['enjoyment','disgust', 'other', 'sadness', 'anger', 'fear', 'surprise'],[1,2,3,4,5,6,7])\n",
    "Y_test_2 =   df3['Emotion'].replace(['enjoyment','disgust', 'other', 'sadness', 'anger', 'fear', 'surprise'],[1,2,3,4,5,6,7])\n",
    "\n",
    "# Count_Vectorizer\n",
    "countVectorizer = CountVectorizer()\n",
    "X_train_3 = countVectorizer.fit_transform(df['Sentence'])\n",
    "X_test_3 = countVectorizer.fit_transform(df3['Sentence'])\n",
    "Y_train_3 = df['Emotion'].replace(['enjoyment','disgust', 'other', 'sadness', 'anger', 'fear', 'surprise'],[1,2,3,4,5,6,7])\n",
    "Y_test_3 =   df3['Emotion'].replace(['enjoyment','disgust', 'other', 'sadness', 'anger', 'fear', 'surprise'],[1,2,3,4,5,6,7])\n"
   ]
  },
  {
   "cell_type": "code",
   "execution_count": 24,
   "id": "adult-sandwich",
   "metadata": {},
   "outputs": [
    {
     "name": "stdout",
     "output_type": "stream",
     "text": [
      "Mean of accuracy Tfid_Vectorizer:  0.5141186359300844\n",
      "Mean of accuracy Hashing_Vectorizer:  0.29948537806948555\n",
      "Mean of accuracy Count_Vectorizer:  0.5170065943175338\n"
     ]
    }
   ],
   "source": [
    "from sklearn.model_selection import train_test_split\n",
    "from sklearn.linear_model import LogisticRegression\n",
    "from sklearn.model_selection import KFold\n",
    "from sklearn.model_selection import cross_val_score\n",
    "from numpy import mean\n",
    "\n",
    "# Logistic Regression\n",
    "model = LogisticRegression()\n",
    "\n",
    "cv = KFold(n_splits=5, random_state=1, shuffle=True)\n",
    "\n",
    "scores = cross_val_score(model, X_train_1, Y_train_1, scoring='accuracy', cv=cv, n_jobs=-1)\n",
    "\n",
    "print(\"Mean of accuracy Tfid_Vectorizer: \",mean(scores))\n",
    "\n",
    "scores = cross_val_score(model, X_train_2, Y_train_2, scoring='accuracy', cv=cv, n_jobs=-1)\n",
    "\n",
    "print(\"Mean of accuracy Hashing_Vectorizer: \",mean(scores))\n",
    "\n",
    "scores = cross_val_score(model, X_train_3, Y_train_3, scoring='accuracy', cv=cv, n_jobs=-1)\n",
    "\n",
    "print(\"Mean of accuracy Count_Vectorizer: \",mean(scores))\n"
   ]
  },
  {
   "cell_type": "code",
   "execution_count": 27,
   "id": "bigger-balloon",
   "metadata": {},
   "outputs": [
    {
     "name": "stdout",
     "output_type": "stream",
     "text": [
      "Mean of accuracy Tfid_Vectorizer:  0.4778640486766957\n",
      "Mean of accuracy Count_Vectorizer:  0.4977555121054576\n"
     ]
    }
   ],
   "source": [
    "from keras.preprocessing.text import Tokenizer\n",
    "from sklearn.naive_bayes import MultinomialNB\n",
    "\n",
    "# Naive Bayes\n",
    "model = MultinomialNB()\n",
    "\n",
    "cv = KFold(n_splits=5, random_state=1, shuffle=True)\n",
    "\n",
    "scores = cross_val_score(model, X_train_1, Y_train_1, scoring='accuracy', cv=cv, n_jobs=-1)\n",
    "\n",
    "print(\"Mean of accuracy Tfid_Vectorizer: \",mean(scores))\n",
    "\n",
    "# Cannot use Hashing_Vectorizer for Naive Bayes\n",
    "\n",
    "#scores = cross_val_score(model, X_train_2, Y_train_2, scoring='accuracy', cv=cv, n_jobs=-1)\n",
    "\n",
    "#print(\"Mean of accuracy Hashing_Vectorizer: \",mean(scores))\n",
    "\n",
    "scores = cross_val_score(model, X_train_3, Y_train_3, scoring='accuracy', cv=cv, n_jobs=-1)\n",
    "\n",
    "print(\"Mean of accuracy Count_Vectorizer: \",mean(scores))"
   ]
  },
  {
   "cell_type": "code",
   "execution_count": 28,
   "id": "existing-nerve",
   "metadata": {},
   "outputs": [
    {
     "name": "stdout",
     "output_type": "stream",
     "text": [
      "Mean of accuracy Tfid_Vectorizer:  0.28778036790705397\n",
      "Mean of accuracy Hashing_Vectorizer:  0.2377284294505851\n",
      "Mean of accuracy Count_Vectorizer:  0.3540270646340945\n"
     ]
    }
   ],
   "source": [
    "from sklearn.neighbors import KNeighborsClassifier\n",
    "\n",
    "# KNeighbors Classifier\n",
    "model = KNeighborsClassifier(n_neighbors=5)\n",
    "\n",
    "cv = KFold(n_splits=5, random_state=1, shuffle=True)\n",
    "\n",
    "scores = cross_val_score(model, X_train_1, Y_train_1, scoring='accuracy', cv=cv, n_jobs=-1)\n",
    "\n",
    "print(\"Mean of accuracy Tfid_Vectorizer: \",mean(scores))\n",
    "\n",
    "scores = cross_val_score(model, X_train_2, Y_train_2, scoring='accuracy', cv=cv, n_jobs=-1)\n",
    "\n",
    "print(\"Mean of accuracy Hashing_Vectorizer: \",mean(scores))\n",
    "\n",
    "scores = cross_val_score(model, X_train_3, Y_train_3, scoring='accuracy', cv=cv, n_jobs=-1)\n",
    "\n",
    "print(\"Mean of accuracy Count_Vectorizer: \",mean(scores))"
   ]
  },
  {
   "cell_type": "code",
   "execution_count": 29,
   "id": "worst-mitchell",
   "metadata": {},
   "outputs": [
    {
     "name": "stdout",
     "output_type": "stream",
     "text": [
      "Mean of accuracy Tfid_Vectorizer:  0.28778036790705397\n",
      "Mean of accuracy Hashing_Vectorizer:  0.2377284294505851\n",
      "Mean of accuracy Count_Vectorizer:  0.3540270646340945\n"
     ]
    }
   ],
   "source": [
    "from sklearn import svm\n",
    "\n",
    "# SVM \n",
    "clf = svm.SVC(kernel='linear')\n",
    "\n",
    "cv = KFold(n_splits=5, random_state=1, shuffle=True)\n",
    "\n",
    "scores = cross_val_score(model, X_train_1, Y_train_1, scoring='accuracy', cv=cv, n_jobs=-1)\n",
    "\n",
    "print(\"Mean of accuracy Tfid_Vectorizer: \",mean(scores))\n",
    "\n",
    "scores = cross_val_score(model, X_train_2, Y_train_2, scoring='accuracy', cv=cv, n_jobs=-1)\n",
    "\n",
    "print(\"Mean of accuracy Hashing_Vectorizer: \",mean(scores))\n",
    "\n",
    "scores = cross_val_score(model, X_train_3, Y_train_3, scoring='accuracy', cv=cv, n_jobs=-1)\n",
    "\n",
    "print(\"Mean of accuracy Count_Vectorizer: \",mean(scores))"
   ]
  },
  {
   "cell_type": "code",
   "execution_count": 31,
   "id": "searching-southwest",
   "metadata": {},
   "outputs": [
    {
     "name": "stdout",
     "output_type": "stream",
     "text": [
      "Mean of accuracy Tfid_Vectorizer:  0.28778036790705397\n",
      "Mean of accuracy Hashing_Vectorizer:  0.2377284294505851\n",
      "Mean of accuracy Count_Vectorizer:  0.3540270646340945\n"
     ]
    }
   ],
   "source": [
    "from sklearn.tree import DecisionTreeClassifier\n",
    "from sklearn.neighbors import KNeighborsClassifier\n",
    "from sklearn.svm import SVC\n",
    "from itertools import product\n",
    "from sklearn.ensemble import VotingClassifier\n",
    "\n",
    "# Combine Decision Tree, KN, SVC, Naive Bayes\n",
    "clf1 = DecisionTreeClassifier(max_depth=4)\n",
    "clf2 = KNeighborsClassifier(n_neighbors=7)\n",
    "clf3 = SVC(kernel='rbf', probability=True)\n",
    "clf4 = MultinomialNB()\n",
    "eclf = VotingClassifier(estimators=[('dt', clf1), ('knn', clf2), ('svc', clf3), ('nb', clf4)], voting='soft', weights=[2, 1, 2, 3])\n",
    "\n",
    "cv = KFold(n_splits=5, random_state=1, shuffle=True)\n",
    "\n",
    "scores = cross_val_score(model, X_train_1, Y_train_1, scoring='accuracy', cv=cv, n_jobs=-1)\n",
    "\n",
    "print(\"Mean of accuracy Tfid_Vectorizer: \",mean(scores))\n",
    "\n",
    "scores = cross_val_score(model, X_train_2, Y_train_2, scoring='accuracy', cv=cv, n_jobs=-1)\n",
    "\n",
    "print(\"Mean of accuracy Hashing_Vectorizer: \",mean(scores))\n",
    "\n",
    "scores = cross_val_score(model, X_train_3, Y_train_3, scoring='accuracy', cv=cv, n_jobs=-1)\n",
    "\n",
    "print(\"Mean of accuracy Count_Vectorizer: \",mean(scores))"
   ]
  },
  {
   "cell_type": "code",
   "execution_count": null,
   "id": "governmental-peoples",
   "metadata": {},
   "outputs": [],
   "source": [
    "ensemble=VotingClassifier(estimators=[('Decision Tree', decisiontree), ('Random Forest', forest)], \n",
    "                       voting='soft', weights=[2,1]).fit(train_X,train_Y)"
   ]
  }
 ],
 "metadata": {
  "kernelspec": {
   "display_name": "Python 3",
   "language": "python",
   "name": "python3"
  },
  "language_info": {
   "codemirror_mode": {
    "name": "ipython",
    "version": 3
   },
   "file_extension": ".py",
   "mimetype": "text/x-python",
   "name": "python",
   "nbconvert_exporter": "python",
   "pygments_lexer": "ipython3",
   "version": "3.7.2"
  }
 },
 "nbformat": 4,
 "nbformat_minor": 5
}
